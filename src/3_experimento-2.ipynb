{
 "cells": [
  {
   "cell_type": "markdown",
   "id": "f4283827",
   "metadata": {},
   "source": [
    "## Segundo Experimento: Comparação Local do m² dos Bairros"
   ]
  },
  {
   "cell_type": "code",
   "execution_count": null,
   "id": "608df6cf",
   "metadata": {},
   "outputs": [],
   "source": [
    "# Vamos pegar os 100 bairros com o maior número de imóveis na base\n",
    "bairros_para_analise = itbi['Bairro'].value_counts().nlargest(100).index\n",
    "\n",
    "print(\"Analisando as dinâmicas internas dos seguintes bairros:\")\n",
    "print(bairros_para_analise.tolist())\n",
    "print(\"=\"*60)"
   ]
  },
  {
   "cell_type": "code",
   "execution_count": null,
   "id": "99d24927",
   "metadata": {},
   "outputs": [],
   "source": [
    "print(\"Iniciando Análise Focada por Bairro com comparação Nominal e Real...\")\n",
    "print(\"=\"*70)\n",
    "\n",
    "for bairro_foco in bairros_para_analise:\n",
    "    print(f\"\\n--- Análise Focada no Bairro: {bairro_foco} ---\")\n",
    "    \n",
    "    # 1. Filtra o DataFrame para o bairro em questão\n",
    "    df_bairro = itbi[itbi['Bairro'] == bairro_foco].copy()\n",
    "    \n",
    "    if len(df_bairro) < 50:\n",
    "        print(\"Dados insuficientes para uma análise robusta. Pulando...\")\n",
    "        continue\n",
    "\n",
    "    # 2. Calcula as médias de base PARA ESTE BAIRRO ESPECÍFICO\n",
    "    media_bairro_nominal = df_bairro['valor_m2'].mean()\n",
    "    media_bairro_real = df_bairro['valor_m2_corrigido'].mean()\n",
    "    print(f\"Média Nominal do Bairro: R$ {media_bairro_nominal:,.2f}\")\n",
    "    print(f\"Média Real do Bairro: R$ {media_bairro_real:,.2f}\\n\")\n",
    "\n",
    "    # 3. Executa a análise do pysubgroup\n",
    "    target = ps.NumericTarget('valor_m2') # Alvo é o valor nominal\n",
    "    quality_function = ps.StandardQFNumeric(a=0.5)\n",
    "    \n",
    "    include = ['Tipo Construtivo Preponderante', 'Ano Avaliacao', 'idade']\n",
    "    ignore = list(set(list(itbi)) - set(include))\n",
    "    search_space = ps.create_selectors(df_bairro, ignore=ignore)\n",
    "\n",
    "    task = ps.SubgroupDiscoveryTask(\n",
    "        df_bairro,\n",
    "        target,\n",
    "        search_space,\n",
    "        result_set_size=5,\n",
    "        depth=2,\n",
    "        qf=quality_function\n",
    "    )\n",
    "    \n",
    "    result = ps.BeamSearch().execute(task)\n",
    "    df_results = result.to_dataframe()\n",
    "\n",
    "    if df_results.empty:\n",
    "        print(\"Nenhum padrão interessante encontrado para este bairro.\")\n",
    "        print(\"-\" * 50)\n",
    "        continue\n",
    "\n",
    "    # --- INÍCIO DA ATUALIZAÇÃO NA IMPRESSÃO ---\n",
    "\n",
    "    # 4. Imprime os resultados com as duas métricas de impacto\n",
    "    for index, row in df_results.iterrows():\n",
    "        subgrupo_obj = row['subgroup']\n",
    "        \n",
    "        # Filtra os dados do bairro para obter os dados apenas deste subgrupo\n",
    "        dados_do_subgrupo = subgrupo_obj.covers(df_bairro)\n",
    "        \n",
    "        # Coleta as médias nominais e reais do subgrupo\n",
    "        media_nominal_sg = row['mean_sg']\n",
    "        media_real_sg = df_bairro[dados_do_subgrupo]['valor_m2_corrigido'].mean()\n",
    "        \n",
    "        # Calcula os dois impactos percentuais em relação às médias do BAIRRO\n",
    "        impacto_nominal = ((media_nominal_sg / media_bairro_nominal) - 1) * 100\n",
    "        impacto_real = ((media_real_sg / media_bairro_real) - 1) * 100\n",
    "        \n",
    "        # Imprime o \"card\" de resultado aprimorado\n",
    "        print(f\"Qualidade: {row['quality']:.2f} | Padrão Interno: {row['subgroup']}\")\n",
    "        print(f\"   > Tamanho: {row['size_sg']:,.0f} imóveis\")\n",
    "        print(f\"   > Média Nominal: R$ {media_nominal_sg:,.2f}  (Impacto: {impacto_nominal:+.2f}% vs. média NOMINAL do bairro)\")\n",
    "        print(f\"   > Média Real   : R$ {media_real_sg:,.2f}  (Impacto: {impacto_real:+.2f}% vs. média REAL do bairro)\")\n",
    "        print(\"-\" * 50)\n"
   ]
  }
 ],
 "metadata": {
  "kernelspec": {
   "display_name": "Python 3",
   "language": "python",
   "name": "python3"
  },
  "language_info": {
   "codemirror_mode": {
    "name": "ipython",
    "version": 3
   },
   "file_extension": ".py",
   "mimetype": "text/x-python",
   "name": "python",
   "nbconvert_exporter": "python",
   "pygments_lexer": "ipython3",
   "version": "3.10.12"
  }
 },
 "nbformat": 4,
 "nbformat_minor": 5
}
