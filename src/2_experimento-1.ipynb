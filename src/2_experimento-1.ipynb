{
 "cells": [
  {
   "cell_type": "markdown",
   "id": "9a020635",
   "metadata": {},
   "source": [
    "## Primeiro Experimento: Comparação do m² com a Cidade Inteira"
   ]
  },
  {
   "cell_type": "code",
   "execution_count": null,
   "id": "5f4a9f58",
   "metadata": {},
   "outputs": [],
   "source": [
    "target = ps.NumericTarget('valor_m2')\n",
    "\n",
    "include = ['Bairro', 'Tipo Construtivo Preponderante', 'Ano Avaliacao', 'idade']\n",
    "ignore = list(set(list(itbi)) - set(include))\n",
    "search_space = ps.create_selectors(itbi, ignore=ignore)\n",
    "\n",
    "# Usaremos a StandardQF, que mede a diferença da média do subgrupo em desvios padrão\n",
    "# O parâmetro 'a' ajuda a ponderar o tamanho do subgrupo.\n",
    "quality_function = ps.StandardQFNumeric(a=0.5)"
   ]
  },
  {
   "cell_type": "code",
   "execution_count": null,
   "id": "00c2729c",
   "metadata": {},
   "outputs": [],
   "source": [
    "# Criando a tarefa de descoberta de subgrupos\n",
    "task = ps.SubgroupDiscoveryTask(\n",
    "    itbi,\n",
    "    target,\n",
    "    search_space,\n",
    "    result_set_size=10,  # 10 melhores subgrupos\n",
    "    depth=3,             # Profundidade máxima da descrição \n",
    "    qf=quality_function\n",
    ")\n",
    "\n",
    "# Executando a busca\n",
    "result = ps.BeamSearch().execute(task)"
   ]
  },
  {
   "cell_type": "code",
   "execution_count": null,
   "id": "954c2629",
   "metadata": {},
   "outputs": [],
   "source": [
    "media_global_nominal = itbi['valor_m2'].mean()\n",
    "media_global_real = itbi['valor_m2_corrigido'].mean()\n",
    "df_results = result.to_dataframe()\n",
    "medias_reais_sg = []\n",
    "\n",
    "for index, row in df_results.iterrows():\n",
    "    subgrupo_obj = row['subgroup']\n",
    "    dados_do_subgrupo = subgrupo_obj.covers(itbi)\n",
    "    media_real = itbi[dados_do_subgrupo]['valor_m2_corrigido'].mean()\n",
    "    medias_reais_sg.append(media_real)\n",
    "df_results['mean_sg_corrigido'] = medias_reais_sg\n",
    "\n",
    "print(\"=\"*60)\n",
    "print(\"Análise Detalhada dos Subgrupos de Maior Impacto Nominal\")\n",
    "print(\"=\"*60)\n",
    "print(f\"Média Global Nominal: R$ {media_global_nominal:,.2f}\")\n",
    "print(f\"Média Global Real (corrigida): R$ {media_global_real:,.2f}\\n\")\n",
    "\n",
    "\n",
    "for index, row in df_results.iterrows():\n",
    "    # Coletando os valores da linha\n",
    "    qualidade = row['quality']\n",
    "    descricao = row['subgroup']\n",
    "    tamanho_subgrupo = row['size_sg']\n",
    "    media_nominal_sg = row['mean_sg']\n",
    "    media_real_sg = row['mean_sg_corrigido']\n",
    "\n",
    "    # Calculando os dois impactos percentuais\n",
    "    impacto_nominal = ((media_nominal_sg / media_global_nominal) - 1) * 100\n",
    "    impacto_real = ((media_real_sg / media_global_real) - 1) * 100\n",
    "\n",
    "    # Imprimindo o \"card\" de resultado para cada subgrupo\n",
    "    print(f\"Qualidade: {qualidade:.3f} | Subgrupo: {descricao}\")\n",
    "    print(f\"   > Tamanho: {tamanho_subgrupo:,.0f} imóveis\")\n",
    "    print(f\"   > Média Nominal: R$ {media_nominal_sg:,.2f}  (Impacto: {impacto_nominal:+.2f}%)\")\n",
    "    print(f\"   > Média Real   : R$ {media_real_sg:,.2f}  (Impacto: {impacto_real:+.2f}%)\")\n",
    "    print(\"-\" * 40)"
   ]
  }
 ],
 "metadata": {
  "kernelspec": {
   "display_name": "Python 3",
   "language": "python",
   "name": "python3"
  },
  "language_info": {
   "codemirror_mode": {
    "name": "ipython",
    "version": 3
   },
   "file_extension": ".py",
   "mimetype": "text/x-python",
   "name": "python",
   "nbconvert_exporter": "python",
   "pygments_lexer": "ipython3",
   "version": "3.10.12"
  }
 },
 "nbformat": 4,
 "nbformat_minor": 5
}
