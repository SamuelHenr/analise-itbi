{
 "cells": [
  {
   "cell_type": "code",
   "execution_count": null,
   "id": "80031d0c-32f4-4665-af8f-2c7464273d97",
   "metadata": {},
   "outputs": [],
   "source": [
    "import pandas as pd\n",
    "import os\n",
    "import pysubgroup as ps\n",
    "import numpy as np\n",
    "from bcb import sgs"
   ]
  },
  {
   "cell_type": "code",
   "execution_count": null,
   "id": "afd56869",
   "metadata": {},
   "outputs": [],
   "source": [
    "# Junta todos os arquivos da série histórica que estão dentro de uma mesma pasta\n",
    "path = \"Dados/\"\n",
    "all_entries = os.listdir(path)\n",
    "file_names = [entry for entry in all_entries if os.path.isfile(os.path.join(path, entry))]\n",
    "\n",
    "itbi = pd.DataFrame({})\n",
    "for file_name in file_names:\n",
    "    temp_data = pd.read_csv(path+file_name, delimiter=\";\", low_memory=False)\n",
    "    itbi = pd.concat([itbi, temp_data], axis=0)\n",
    "\n",
    "itbi['Data Quitacao Transacao Formatada'] = pd.to_datetime(itbi['Data Quitacao Transacao'], format='%d/%m/%Y')\n",
    "itbi['Ano Avaliacao'] = itbi['Data Quitacao Transacao Formatada'].dt.year\n",
    "itbi['Mes Avaliacao'] = itbi['Data Quitacao Transacao Formatada'].dt.month\n",
    "itbi.sort_values(by='Data Quitacao Transacao Formatada', ascending=True, inplace=True)"
   ]
  },
  {
   "cell_type": "code",
   "execution_count": null,
   "id": "0d318f3f",
   "metadata": {},
   "outputs": [],
   "source": [
    "itbi = itbi.rename(columns={'Area Construida Adquirida': 'area',\n",
    "                            'Padrao Acabamento Unidade': 'padrao',\n",
    "                            'Valor Base Calculo': 'preco'})\n",
    "\n",
    "# Padronização dos nomes\n",
    "itbi['Bairro'] = itbi['Bairro'].str.strip().str.upper()\n",
    "itbi['Descricao Tipo Ocupacao Unidade'] = itbi['Descricao Tipo Ocupacao Unidade'].str.strip().str.upper()\n",
    "\n",
    "itbi.head()"
   ]
  },
  {
   "cell_type": "markdown",
   "id": "f0a29e28",
   "metadata": {},
   "source": [
    "## Pré-processamento dos dados"
   ]
  },
  {
   "cell_type": "code",
   "execution_count": null,
   "id": "811bbbd6",
   "metadata": {},
   "outputs": [],
   "source": [
    "# Cria as novas variáveis e filtra os dados\n",
    "\n",
    "itbi['preco'] = itbi['preco'].str.replace(\".\", \"\", regex=False)\n",
    "itbi['preco'] = itbi['preco'].str.replace(\",\", \".\")\n",
    "itbi['preco'] = itbi['preco'].astype(float)\n",
    "\n",
    "itbi['area'] = itbi['area'].str.replace(\".\", \"\", regex=False)\n",
    "itbi['area'] = itbi['area'].str.replace(\",\", \".\")\n",
    "itbi['area'] = itbi['area'].astype(float)\n",
    "\n",
    "itbi = itbi.query(\"area >= 50\")\n",
    "itbi = itbi.query(\"preco >= 100000\")\n",
    "itbi = itbi.query(\"`Descricao Tipo Ocupacao Unidade` == 'RESIDENCIAL'\")\n",
    "\n",
    "itbi['idade'] = itbi['Ano Avaliacao'] - itbi['Ano de Construcao Unidade']\n",
    "itbi['valor_m2'] = itbi['preco'] / itbi['area']\n",
    "\n",
    "itbi = itbi.query(\"idade >= 0 and idade <= 100\")"
   ]
  },
  {
   "cell_type": "code",
   "execution_count": null,
   "id": "42cd80dc",
   "metadata": {},
   "outputs": [],
   "source": [
    "# Vamos trazer os preços dos imóveis para valor presente, pois precisamos comparar seus valores em anos diferentes\n",
    "\n",
    "# Busca os dados do IGP-M pela biblioteca do banco central e cria o deflator\n",
    "print(\"Buscando dados do IGP-M no Banco Central...\")\n",
    "igpm = sgs.get({'IGP-M': 189}, start='2008-01-01').rename(columns={'IGP-M': 'igpm_mensal'})\n",
    "igpm['igpm_mensal'] = igpm['igpm_mensal'] / 100\n",
    "\n",
    "data_referencia = igpm.index.max()\n",
    "print(f\"Todos os valores serão corrigidos para a data de referência: {data_referencia.strftime('%B de %Y')}\")\n",
    "\n",
    "valor_ref_acumulado = (1 + igpm['igpm_mensal']).cumprod().loc[data_referencia]\n",
    "igpm['fator_acumulado'] = (1 + igpm['igpm_mensal']).cumprod()\n",
    "igpm['fator_correcao'] = valor_ref_acumulado / igpm['fator_acumulado']\n",
    "igpm['mes_ano'] = igpm.index.to_period('M')\n",
    "\n",
    "# Aplicação do deflator pelo mês e ano de avaliação\n",
    "itbi['mes_ano'] = itbi['Data Quitacao Transacao Formatada'].dt.to_period('M')\n",
    "\n",
    "# Junta o fator de correção ao seu DataFrame principal\n",
    "print(\"Juntando o fator de correção aos dados dos imóveis...\")\n",
    "itbi = pd.merge(itbi, igpm[['mes_ano', 'fator_correcao']], on='mes_ano', how='left')\n",
    "\n",
    "\n",
    "# Aplica a correção e criar as novas colunas\n",
    "print(\"Calculando os valores corrigidos...\")\n",
    "itbi['preco_corrigido'] = itbi['preco'] * itbi['fator_correcao']\n",
    "itbi['valor_m2_corrigido'] = itbi['preco_corrigido'] / itbi['area']\n",
    "\n",
    "print(\"\\nCorreção inflacionária aplicada com sucesso usando o mês exato!\")\n",
    "itbi[[\"Ano Avaliacao\", \"Mes Avaliacao\", 'preco', 'preco_corrigido', 'valor_m2', 'valor_m2_corrigido']].head()"
   ]
  },
  {
   "cell_type": "code",
   "execution_count": null,
   "id": "0926aa98",
   "metadata": {},
   "outputs": [],
   "source": [
    "# Vamos realizar mais um refinamento nos dados: iremos eliminar os dados categóricos que aparecem poucas vezes\n",
    "print(f\"Tamanho original do dataset: {len(itbi):,}\")\n",
    "\n",
    "# Passo 1: Filtrar pelos tipos de imóvel de interesse\n",
    "tipos_de_interesse = ['AP', 'CA']\n",
    "itbi = itbi[itbi['Tipo Construtivo Preponderante'].isin(tipos_de_interesse)].copy()\n",
    "\n",
    "print(f\"Tamanho após filtrar por tipo de imóvel: {len(itbi):,}\")\n",
    "\n",
    "# Passo 2: Filtrar bairros com poucos imóveis\n",
    "# Primeiro, contamos quantos imóveis cada bairro tem\n",
    "contagem_bairros = itbi['Bairro'].value_counts()\n",
    "\n",
    "# Definimos um limite mínimo. Podemos experimentar outros valores\n",
    "limite_minimo_imoveis = 10 \n",
    "\n",
    "# Pegamos a lista de bairros que ATENDEM ao critério\n",
    "bairros_validos = contagem_bairros[contagem_bairros >= limite_minimo_imoveis].index\n",
    "\n",
    "# Filtramos o DataFrame para manter apenas esses bairros\n",
    "itbi = itbi[itbi['Bairro'].isin(bairros_validos)].copy()\n",
    "\n",
    "print(f\"Tamanho após remover bairros com menos de {limite_minimo_imoveis} imóveis: {len(itbi):,}\")"
   ]
  },
  {
   "cell_type": "code",
   "execution_count": null,
   "id": "56d69fdf",
   "metadata": {},
   "outputs": [],
   "source": [
    "print(itbi.shape)\n",
    "itbi.describe()"
   ]
  },
  {
   "cell_type": "code",
   "execution_count": null,
   "id": "8d38d06d",
   "metadata": {},
   "outputs": [],
   "source": [
    "# Iremos utilizar o ano de avaliação como variável categórica para termos acesso mais fácil à série histórica\n",
    "print(f\"Tipo original da coluna 'Ano Avaliacao': {itbi['Ano Avaliacao'].dtype}\")\n",
    "\n",
    "# CONVERTER O ANO PARA UM TIPO CATEGÓRICO (string é a forma mais simples)\n",
    "itbi['Ano Avaliacao'] = itbi['Ano Avaliacao'].astype(str)\n",
    "\n",
    "print(f\"Novo tipo da coluna 'Ano Avaliacao': {itbi['Ano Avaliacao'].dtype}\")"
   ]
  },
  {
   "cell_type": "markdown",
   "id": "ed9fa1ce",
   "metadata": {},
   "source": [
    "## Teste 0: padrões apenas com os bairros"
   ]
  },
  {
   "cell_type": "code",
   "execution_count": null,
   "id": "d068675c",
   "metadata": {},
   "outputs": [],
   "source": [
    "target = ps.NumericTarget('valor_m2')\n",
    "\n",
    "include = ['Bairro']\n",
    "ignore = list(set(list(itbi)) - set(include))\n",
    "search_space = ps.create_selectors(itbi, ignore=ignore)\n",
    "\n",
    "# Usaremos a StandardQF, que mede a diferença da média do subgrupo em desvios padrão\n",
    "# O parâmetro 'a' ajuda a ponderar o tamanho do subgrupo.\n",
    "quality_function = ps.StandardQFNumeric(a=0.5)"
   ]
  },
  {
   "cell_type": "code",
   "execution_count": null,
   "id": "5baed2bf",
   "metadata": {},
   "outputs": [],
   "source": [
    "# Criando a tarefa de descoberta de subgrupos\n",
    "task = ps.SubgroupDiscoveryTask(\n",
    "    itbi,\n",
    "    target,\n",
    "    search_space,\n",
    "    result_set_size=20,  # Queremos os 10 melhores subgrupos\n",
    "    depth=1,             # Profundidade máxima da descrição (ex: Bairro='SAVASSI' AND Tipo_Imovel='APARTAMENTO')\n",
    "    qf=quality_function\n",
    ")\n",
    "\n",
    "# Executando a busca\n",
    "result = ps.BeamSearch().execute(task)"
   ]
  },
  {
   "cell_type": "code",
   "execution_count": null,
   "id": "537b03f9",
   "metadata": {},
   "outputs": [],
   "source": [
    "media_global_nominal = itbi['valor_m2'].mean()\n",
    "media_global_real = itbi['valor_m2_corrigido'].mean()\n",
    "df_results = result.to_dataframe()\n",
    "medias_reais_sg = []\n",
    "\n",
    "for index, row in df_results.iterrows():\n",
    "    subgrupo_obj = row['subgroup']\n",
    "    dados_do_subgrupo = subgrupo_obj.covers(itbi)\n",
    "    media_real = itbi[dados_do_subgrupo]['valor_m2_corrigido'].mean()\n",
    "    medias_reais_sg.append(media_real)\n",
    "df_results['mean_sg_corrigido'] = medias_reais_sg\n",
    "\n",
    "print(\"=\"*60)\n",
    "print(\"Análise Detalhada dos Subgrupos de Maior Impacto Nominal\")\n",
    "print(\"=\"*60)\n",
    "print(f\"Média Global Nominal: R$ {media_global_nominal:,.2f}\")\n",
    "print(f\"Média Global Real (corrigida): R$ {media_global_real:,.2f}\\n\")\n",
    "\n",
    "\n",
    "for index, row in df_results.iterrows():\n",
    "    # Coletando os valores da linha\n",
    "    qualidade = row['quality']\n",
    "    descricao = row['subgroup']\n",
    "    tamanho_subgrupo = row['size_sg']\n",
    "    media_nominal_sg = row['mean_sg']\n",
    "    media_real_sg = row['mean_sg_corrigido']\n",
    "\n",
    "    # Calculando os dois impactos percentuais\n",
    "    impacto_nominal = ((media_nominal_sg / media_global_nominal) - 1) * 100\n",
    "    impacto_real = ((media_real_sg / media_global_real) - 1) * 100\n",
    "\n",
    "    # Imprimindo o \"card\" de resultado para cada subgrupo\n",
    "    print(f\"Qualidade: {qualidade:.3f} | Subgrupo: {descricao}\")\n",
    "    print(f\"   > Tamanho: {tamanho_subgrupo:,.0f} imóveis\")\n",
    "    print(f\"   > Média Nominal: R$ {media_nominal_sg:,.2f}  (Impacto: {impacto_nominal:+.2f}%)\")\n",
    "    print(f\"   > Média Real   : R$ {media_real_sg:,.2f}  (Impacto: {impacto_real:+.2f}%)\")\n",
    "    print(\"-\" * 40)"
   ]
  }
 ],
 "metadata": {
  "kernelspec": {
   "display_name": "Python 3",
   "language": "python",
   "name": "python3"
  },
  "language_info": {
   "codemirror_mode": {
    "name": "ipython",
    "version": 3
   },
   "file_extension": ".py",
   "mimetype": "text/x-python",
   "name": "python",
   "nbconvert_exporter": "python",
   "pygments_lexer": "ipython3",
   "version": "3.10.12"
  }
 },
 "nbformat": 4,
 "nbformat_minor": 5
}
